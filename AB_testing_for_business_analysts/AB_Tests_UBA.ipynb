{
 "cells": [
  {
   "cell_type": "markdown",
   "id": "a680a50f",
   "metadata": {},
   "source": [
    "# Udacity 1st course"
   ]
  },
  {
   "cell_type": "code",
   "execution_count": 1,
   "id": "faf8b073",
   "metadata": {
    "ExecuteTime": {
     "end_time": "2023-06-03T19:34:11.096876Z",
     "start_time": "2023-06-03T19:34:08.523878Z"
    }
   },
   "outputs": [],
   "source": [
    "import pandas as pd\n",
    "import numpy as np\n",
    "import scipy.stats as stats\n",
    "\n",
    "from sklearn.metrics.pairwise import euclidean_distances"
   ]
  },
  {
   "cell_type": "markdown",
   "id": "1ef338d9",
   "metadata": {},
   "source": [
    "# Randomized design tests"
   ]
  },
  {
   "cell_type": "markdown",
   "id": "9665a6db",
   "metadata": {},
   "source": [
    "## 1st task\n",
    "Use the data in Customer Service AB Testing Data file to perform an analysis on the following experiment and answer the questions that follows:\n",
    "\n",
    "A call center for a cable internet provider wants to see if implementing an automated answering system to collect some data from the caller while they are on hold will increase customer service scores vs the customer service representative collecting that data after the customer has waited on hold. Twenty percent of the callers for the week of the experiment were randomly assigned to the treatment group and the rest were assigned to the control group. At the end of the call they were asked to fill out a one question survey. The data for the 1000 callers who took the survey is in the provided file.\n",
    "- Think about the description of the experiment. Do you have any concerns about the setup of the experiment?\n",
    "- what is the p-value for the experiment?\n",
    "- Given this p-value, what would you conclude from the experiment?"
   ]
  },
  {
   "cell_type": "markdown",
   "id": "e73a77b7",
   "metadata": {},
   "source": [
    "### Think about the description of the experiment. Do you have any concerns about the setup of the experiment?\n",
    "it would be helpful to know the total number of callers during the week of the experiment, if it's much larger, the sample size of 1000 might not be representative enough.  \n",
    "we don't know  information on the response rate of the survey  \n",
    "we don't know variables that could potentially influence customer service scores were controlled or accounted for."
   ]
  },
  {
   "cell_type": "code",
   "execution_count": 2,
   "id": "bd4e5587",
   "metadata": {
    "ExecuteTime": {
     "end_time": "2023-06-03T19:34:11.128029Z",
     "start_time": "2023-06-03T19:34:11.102026Z"
    }
   },
   "outputs": [],
   "source": [
    "df = pd.read_csv(\"customerserviceabtestdata.csv\")"
   ]
  },
  {
   "cell_type": "code",
   "execution_count": 3,
   "id": "f83dde7c",
   "metadata": {
    "ExecuteTime": {
     "end_time": "2023-06-03T19:34:11.175047Z",
     "start_time": "2023-06-03T19:34:11.136919Z"
    }
   },
   "outputs": [
    {
     "data": {
      "text/html": [
       "<div>\n",
       "<style scoped>\n",
       "    .dataframe tbody tr th:only-of-type {\n",
       "        vertical-align: middle;\n",
       "    }\n",
       "\n",
       "    .dataframe tbody tr th {\n",
       "        vertical-align: top;\n",
       "    }\n",
       "\n",
       "    .dataframe thead th {\n",
       "        text-align: right;\n",
       "    }\n",
       "</style>\n",
       "<table border=\"1\" class=\"dataframe\">\n",
       "  <thead>\n",
       "    <tr style=\"text-align: right;\">\n",
       "      <th></th>\n",
       "      <th>RecordID</th>\n",
       "      <th>Phone Number</th>\n",
       "      <th>AutomatedFlag</th>\n",
       "      <th>CS Rating</th>\n",
       "    </tr>\n",
       "  </thead>\n",
       "  <tbody>\n",
       "    <tr>\n",
       "      <th>271</th>\n",
       "      <td>272</td>\n",
       "      <td>(334) 689-2745</td>\n",
       "      <td>0</td>\n",
       "      <td>4</td>\n",
       "    </tr>\n",
       "    <tr>\n",
       "      <th>328</th>\n",
       "      <td>329</td>\n",
       "      <td>(326) 244-1876</td>\n",
       "      <td>0</td>\n",
       "      <td>1</td>\n",
       "    </tr>\n",
       "    <tr>\n",
       "      <th>428</th>\n",
       "      <td>429</td>\n",
       "      <td>(460) 193-1745</td>\n",
       "      <td>1</td>\n",
       "      <td>3</td>\n",
       "    </tr>\n",
       "    <tr>\n",
       "      <th>941</th>\n",
       "      <td>942</td>\n",
       "      <td>(621) 112-7318</td>\n",
       "      <td>1</td>\n",
       "      <td>2</td>\n",
       "    </tr>\n",
       "    <tr>\n",
       "      <th>443</th>\n",
       "      <td>444</td>\n",
       "      <td>(409) 589-8078</td>\n",
       "      <td>0</td>\n",
       "      <td>4</td>\n",
       "    </tr>\n",
       "  </tbody>\n",
       "</table>\n",
       "</div>"
      ],
      "text/plain": [
       "     RecordID    Phone Number  AutomatedFlag  CS Rating\n",
       "271       272  (334) 689-2745              0          4\n",
       "328       329  (326) 244-1876              0          1\n",
       "428       429  (460) 193-1745              1          3\n",
       "941       942  (621) 112-7318              1          2\n",
       "443       444  (409) 589-8078              0          4"
      ]
     },
     "execution_count": 3,
     "metadata": {},
     "output_type": "execute_result"
    }
   ],
   "source": [
    "df.sample(5)"
   ]
  },
  {
   "cell_type": "markdown",
   "id": "8fbbbd59",
   "metadata": {},
   "source": [
    "Using an average value for any customers who called in more than once"
   ]
  },
  {
   "cell_type": "code",
   "execution_count": 4,
   "id": "ec09f5b7",
   "metadata": {
    "ExecuteTime": {
     "end_time": "2023-06-03T19:34:11.205762Z",
     "start_time": "2023-06-03T19:34:11.181609Z"
    }
   },
   "outputs": [],
   "source": [
    "df_mto = df.groupby([\"Phone Number\", \"AutomatedFlag\"]).agg({\"CS Rating\": \"mean\"}).sort_values(by=\"Phone Number\")"
   ]
  },
  {
   "cell_type": "code",
   "execution_count": 5,
   "id": "4999ce33",
   "metadata": {
    "ExecuteTime": {
     "end_time": "2023-06-03T19:34:11.236538Z",
     "start_time": "2023-06-03T19:34:11.210099Z"
    }
   },
   "outputs": [
    {
     "data": {
      "text/html": [
       "<div>\n",
       "<style scoped>\n",
       "    .dataframe tbody tr th:only-of-type {\n",
       "        vertical-align: middle;\n",
       "    }\n",
       "\n",
       "    .dataframe tbody tr th {\n",
       "        vertical-align: top;\n",
       "    }\n",
       "\n",
       "    .dataframe thead th {\n",
       "        text-align: right;\n",
       "    }\n",
       "</style>\n",
       "<table border=\"1\" class=\"dataframe\">\n",
       "  <thead>\n",
       "    <tr style=\"text-align: right;\">\n",
       "      <th></th>\n",
       "      <th></th>\n",
       "      <th>CS Rating</th>\n",
       "    </tr>\n",
       "    <tr>\n",
       "      <th>Phone Number</th>\n",
       "      <th>AutomatedFlag</th>\n",
       "      <th></th>\n",
       "    </tr>\n",
       "  </thead>\n",
       "  <tbody>\n",
       "    <tr>\n",
       "      <th>(310) 459-9594</th>\n",
       "      <th>1</th>\n",
       "      <td>1.0</td>\n",
       "    </tr>\n",
       "    <tr>\n",
       "      <th>(347) 467-4244</th>\n",
       "      <th>0</th>\n",
       "      <td>2.0</td>\n",
       "    </tr>\n",
       "    <tr>\n",
       "      <th>(272) 997-2144</th>\n",
       "      <th>0</th>\n",
       "      <td>2.0</td>\n",
       "    </tr>\n",
       "    <tr>\n",
       "      <th>(663) 377-8444</th>\n",
       "      <th>0</th>\n",
       "      <td>1.0</td>\n",
       "    </tr>\n",
       "    <tr>\n",
       "      <th>(364) 971-9832</th>\n",
       "      <th>0</th>\n",
       "      <td>4.0</td>\n",
       "    </tr>\n",
       "  </tbody>\n",
       "</table>\n",
       "</div>"
      ],
      "text/plain": [
       "                              CS Rating\n",
       "Phone Number   AutomatedFlag           \n",
       "(310) 459-9594 1                    1.0\n",
       "(347) 467-4244 0                    2.0\n",
       "(272) 997-2144 0                    2.0\n",
       "(663) 377-8444 0                    1.0\n",
       "(364) 971-9832 0                    4.0"
      ]
     },
     "execution_count": 5,
     "metadata": {},
     "output_type": "execute_result"
    }
   ],
   "source": [
    "df_mto.sample(5)"
   ]
  },
  {
   "cell_type": "code",
   "execution_count": 6,
   "id": "0809cdf8",
   "metadata": {
    "ExecuteTime": {
     "end_time": "2023-06-03T19:34:11.252170Z",
     "start_time": "2023-06-03T19:34:11.240820Z"
    }
   },
   "outputs": [
    {
     "data": {
      "text/plain": [
       "((1000, 4), (992, 1))"
      ]
     },
     "execution_count": 6,
     "metadata": {},
     "output_type": "execute_result"
    }
   ],
   "source": [
    "df.shape, df_mto.shape"
   ]
  },
  {
   "cell_type": "code",
   "execution_count": 7,
   "id": "8a3ff9e6",
   "metadata": {
    "ExecuteTime": {
     "end_time": "2023-06-03T19:34:11.283066Z",
     "start_time": "2023-06-03T19:34:11.261507Z"
    }
   },
   "outputs": [],
   "source": [
    "df_mto.reset_index(inplace=True)"
   ]
  },
  {
   "cell_type": "code",
   "execution_count": 8,
   "id": "28acd094",
   "metadata": {
    "ExecuteTime": {
     "end_time": "2023-06-03T19:34:11.314788Z",
     "start_time": "2023-06-03T19:34:11.290788Z"
    }
   },
   "outputs": [],
   "source": [
    "treatment = df_mto[df_mto[\"AutomatedFlag\"] == 1]\n",
    "control = df_mto[df_mto[\"AutomatedFlag\"] == 0]"
   ]
  },
  {
   "cell_type": "code",
   "execution_count": 9,
   "id": "e0cf09dd",
   "metadata": {
    "ExecuteTime": {
     "end_time": "2023-06-03T19:34:11.344475Z",
     "start_time": "2023-06-03T19:34:11.318797Z"
    }
   },
   "outputs": [
    {
     "data": {
      "text/plain": [
       "((247, 3), (745, 3))"
      ]
     },
     "execution_count": 9,
     "metadata": {},
     "output_type": "execute_result"
    }
   ],
   "source": [
    "treatment.shape, control.shape"
   ]
  },
  {
   "cell_type": "code",
   "execution_count": 10,
   "id": "f57d8d1e",
   "metadata": {
    "ExecuteTime": {
     "end_time": "2023-06-03T19:34:11.375874Z",
     "start_time": "2023-06-03T19:34:11.349814Z"
    }
   },
   "outputs": [
    {
     "name": "stdout",
     "output_type": "stream",
     "text": [
      "Variances:\n"
     ]
    },
    {
     "data": {
      "text/plain": [
       "(1.8985067776885394, 1.9685797937029919)"
      ]
     },
     "execution_count": 10,
     "metadata": {},
     "output_type": "execute_result"
    }
   ],
   "source": [
    "print(\"Variances:\")\n",
    "np.var(treatment[\"CS Rating\"]), np.var(control[\"CS Rating\"])"
   ]
  },
  {
   "cell_type": "markdown",
   "id": "de6af808",
   "metadata": {},
   "source": [
    "### what is the p-value for the experiment?"
   ]
  },
  {
   "cell_type": "code",
   "execution_count": 11,
   "id": "59cd9507",
   "metadata": {
    "ExecuteTime": {
     "end_time": "2023-06-03T19:34:11.407463Z",
     "start_time": "2023-06-03T19:34:11.381062Z"
    }
   },
   "outputs": [
    {
     "data": {
      "text/plain": [
       "Ttest_indResult(statistic=1.9026387203223047, pvalue=0.057377625665938924)"
      ]
     },
     "execution_count": 11,
     "metadata": {},
     "output_type": "execute_result"
    }
   ],
   "source": [
    "# Perform the two sample t-test with equal variances\n",
    "stats.ttest_ind(a=treatment[\"CS Rating\"], b=control[\"CS Rating\"], equal_var=True)"
   ]
  },
  {
   "cell_type": "markdown",
   "id": "105947dc",
   "metadata": {},
   "source": [
    "### Given this p-value, what would you conclude from the experiment?"
   ]
  },
  {
   "cell_type": "markdown",
   "id": "6f155c3b",
   "metadata": {
    "ExecuteTime": {
     "end_time": "2023-06-01T12:34:07.952959Z",
     "start_time": "2023-06-01T12:34:07.931926Z"
    }
   },
   "source": [
    "The p-value is above .05, which suggests there isn’t enough evidence to say that the automated system affects the CS score. However, due to the low sample size, I would suggest to conduct the experiment again for a longer period of time to gather more data."
   ]
  },
  {
   "cell_type": "markdown",
   "id": "c4f1e6e5",
   "metadata": {},
   "source": [
    "# Matched pair design tests"
   ]
  },
  {
   "cell_type": "markdown",
   "id": "004c21e9",
   "metadata": {},
   "source": [
    "## Task 1\n",
    "Before we dive into how to use Alteryx to pick controls, let's try to do it manually. This will help you understand the process at a deeper level.\n",
    "\n",
    "Using the New Product Control Data file, find the best control unit to match to Store ID 111. Feel free to use Excel, Google Sheets, or Alteryx.\n",
    "\n",
    "Use the following variables as control variables to match on:  \n",
    "Category Sales  \n",
    "Number of Products  \n",
    "State\n",
    "- What store(s) would make the best control unit for Store ID 111?"
   ]
  },
  {
   "cell_type": "code",
   "execution_count": 12,
   "id": "749d0935",
   "metadata": {
    "ExecuteTime": {
     "end_time": "2023-06-03T19:34:11.453455Z",
     "start_time": "2023-06-03T19:34:11.411725Z"
    }
   },
   "outputs": [],
   "source": [
    "df = pd.read_csv(\"newproductcontroldata.csv\")"
   ]
  },
  {
   "cell_type": "code",
   "execution_count": 13,
   "id": "f6e4cc74",
   "metadata": {
    "ExecuteTime": {
     "end_time": "2023-06-03T19:34:11.500494Z",
     "start_time": "2023-06-03T19:34:11.463462Z"
    }
   },
   "outputs": [
    {
     "data": {
      "text/html": [
       "<div>\n",
       "<style scoped>\n",
       "    .dataframe tbody tr th:only-of-type {\n",
       "        vertical-align: middle;\n",
       "    }\n",
       "\n",
       "    .dataframe tbody tr th {\n",
       "        vertical-align: top;\n",
       "    }\n",
       "\n",
       "    .dataframe thead th {\n",
       "        text-align: right;\n",
       "    }\n",
       "</style>\n",
       "<table border=\"1\" class=\"dataframe\">\n",
       "  <thead>\n",
       "    <tr style=\"text-align: right;\">\n",
       "      <th></th>\n",
       "      <th>Store ID</th>\n",
       "      <th>City</th>\n",
       "      <th>State</th>\n",
       "      <th>Zip Code</th>\n",
       "      <th>Category Sales</th>\n",
       "      <th>Product Count</th>\n",
       "      <th>Size</th>\n",
       "    </tr>\n",
       "  </thead>\n",
       "  <tbody>\n",
       "    <tr>\n",
       "      <th>6889</th>\n",
       "      <td>6890</td>\n",
       "      <td>Spring</td>\n",
       "      <td>TX</td>\n",
       "      <td>77379</td>\n",
       "      <td>6145.60</td>\n",
       "      <td>4</td>\n",
       "      <td>Medium</td>\n",
       "    </tr>\n",
       "    <tr>\n",
       "      <th>6014</th>\n",
       "      <td>6015</td>\n",
       "      <td>Sherwood</td>\n",
       "      <td>AR</td>\n",
       "      <td>72120</td>\n",
       "      <td>18090.02</td>\n",
       "      <td>6</td>\n",
       "      <td>Large</td>\n",
       "    </tr>\n",
       "    <tr>\n",
       "      <th>2814</th>\n",
       "      <td>2815</td>\n",
       "      <td>Manhattan</td>\n",
       "      <td>KS</td>\n",
       "      <td>66503</td>\n",
       "      <td>34983.59</td>\n",
       "      <td>6</td>\n",
       "      <td>Large</td>\n",
       "    </tr>\n",
       "    <tr>\n",
       "      <th>2980</th>\n",
       "      <td>2981</td>\n",
       "      <td>Oak Creek</td>\n",
       "      <td>WI</td>\n",
       "      <td>53154</td>\n",
       "      <td>4750.51</td>\n",
       "      <td>5</td>\n",
       "      <td>Medium</td>\n",
       "    </tr>\n",
       "    <tr>\n",
       "      <th>2315</th>\n",
       "      <td>2316</td>\n",
       "      <td>Baraboo</td>\n",
       "      <td>WI</td>\n",
       "      <td>53913</td>\n",
       "      <td>7864.48</td>\n",
       "      <td>4</td>\n",
       "      <td>Large</td>\n",
       "    </tr>\n",
       "  </tbody>\n",
       "</table>\n",
       "</div>"
      ],
      "text/plain": [
       "      Store ID       City State  Zip Code  Category Sales  Product Count  \\\n",
       "6889      6890     Spring    TX     77379         6145.60              4   \n",
       "6014      6015   Sherwood    AR     72120        18090.02              6   \n",
       "2814      2815  Manhattan    KS     66503        34983.59              6   \n",
       "2980      2981  Oak Creek    WI     53154         4750.51              5   \n",
       "2315      2316    Baraboo    WI     53913         7864.48              4   \n",
       "\n",
       "        Size  \n",
       "6889  Medium  \n",
       "6014   Large  \n",
       "2814   Large  \n",
       "2980  Medium  \n",
       "2315   Large  "
      ]
     },
     "execution_count": 13,
     "metadata": {},
     "output_type": "execute_result"
    }
   ],
   "source": [
    "df.sample(5)"
   ]
  },
  {
   "cell_type": "code",
   "execution_count": 14,
   "id": "97f7c183",
   "metadata": {
    "ExecuteTime": {
     "end_time": "2023-06-03T19:34:11.516455Z",
     "start_time": "2023-06-03T19:34:11.504456Z"
    }
   },
   "outputs": [
    {
     "data": {
      "text/plain": [
       "Store ID            int64\n",
       "City               object\n",
       "State              object\n",
       "Zip Code            int64\n",
       "Category Sales    float64\n",
       "Product Count       int64\n",
       "Size               object\n",
       "dtype: object"
      ]
     },
     "execution_count": 14,
     "metadata": {},
     "output_type": "execute_result"
    }
   ],
   "source": [
    "df.dtypes"
   ]
  },
  {
   "cell_type": "code",
   "execution_count": 15,
   "id": "e5f7e8c5",
   "metadata": {
    "ExecuteTime": {
     "end_time": "2023-06-03T19:34:11.548549Z",
     "start_time": "2023-06-03T19:34:11.522449Z"
    }
   },
   "outputs": [],
   "source": [
    "state = df[df[\"Store ID\"] == 111][\"State\"].to_string(index=False)\n",
    "cat_sales = float(df[df[\"Store ID\"] == 111][\"Category Sales\"].to_string(index=False))\n",
    "num_of_prod = int(df[df[\"Store ID\"] == 111][\"Product Count\"].to_string(index=False))"
   ]
  },
  {
   "cell_type": "code",
   "execution_count": 16,
   "id": "c4808d1d",
   "metadata": {
    "ExecuteTime": {
     "end_time": "2023-06-03T19:34:11.580609Z",
     "start_time": "2023-06-03T19:34:11.554048Z"
    }
   },
   "outputs": [
    {
     "data": {
      "text/plain": [
       "9456.14"
      ]
     },
     "execution_count": 16,
     "metadata": {},
     "output_type": "execute_result"
    }
   ],
   "source": [
    "cat_sales-100"
   ]
  },
  {
   "cell_type": "code",
   "execution_count": 17,
   "id": "1766c7de",
   "metadata": {
    "ExecuteTime": {
     "end_time": "2023-06-03T19:34:11.612689Z",
     "start_time": "2023-06-03T19:34:11.584594Z"
    }
   },
   "outputs": [
    {
     "data": {
      "text/html": [
       "<div>\n",
       "<style scoped>\n",
       "    .dataframe tbody tr th:only-of-type {\n",
       "        vertical-align: middle;\n",
       "    }\n",
       "\n",
       "    .dataframe tbody tr th {\n",
       "        vertical-align: top;\n",
       "    }\n",
       "\n",
       "    .dataframe thead th {\n",
       "        text-align: right;\n",
       "    }\n",
       "</style>\n",
       "<table border=\"1\" class=\"dataframe\">\n",
       "  <thead>\n",
       "    <tr style=\"text-align: right;\">\n",
       "      <th></th>\n",
       "      <th>Store ID</th>\n",
       "      <th>City</th>\n",
       "      <th>State</th>\n",
       "      <th>Zip Code</th>\n",
       "      <th>Category Sales</th>\n",
       "      <th>Product Count</th>\n",
       "      <th>Size</th>\n",
       "    </tr>\n",
       "  </thead>\n",
       "  <tbody>\n",
       "    <tr>\n",
       "      <th>110</th>\n",
       "      <td>111</td>\n",
       "      <td>Irvine</td>\n",
       "      <td>CA</td>\n",
       "      <td>92618</td>\n",
       "      <td>9556.14</td>\n",
       "      <td>5</td>\n",
       "      <td>Large</td>\n",
       "    </tr>\n",
       "    <tr>\n",
       "      <th>3497</th>\n",
       "      <td>3498</td>\n",
       "      <td>Santa Maria</td>\n",
       "      <td>CA</td>\n",
       "      <td>93455</td>\n",
       "      <td>9532.24</td>\n",
       "      <td>6</td>\n",
       "      <td>Large</td>\n",
       "    </tr>\n",
       "    <tr>\n",
       "      <th>5034</th>\n",
       "      <td>5035</td>\n",
       "      <td>Roseville</td>\n",
       "      <td>CA</td>\n",
       "      <td>95661</td>\n",
       "      <td>9602.96</td>\n",
       "      <td>5</td>\n",
       "      <td>Large</td>\n",
       "    </tr>\n",
       "  </tbody>\n",
       "</table>\n",
       "</div>"
      ],
      "text/plain": [
       "      Store ID         City State  Zip Code  Category Sales  Product Count  \\\n",
       "110        111       Irvine    CA     92618         9556.14              5   \n",
       "3497      3498  Santa Maria    CA     93455         9532.24              6   \n",
       "5034      5035    Roseville    CA     95661         9602.96              5   \n",
       "\n",
       "       Size  \n",
       "110   Large  \n",
       "3497  Large  \n",
       "5034  Large  "
      ]
     },
     "execution_count": 17,
     "metadata": {},
     "output_type": "execute_result"
    }
   ],
   "source": [
    "df[(df[\"State\"] == state) & (df[\"Category Sales\"].between(cat_sales-50,\n",
    "                                                          cat_sales+50)) & (df[\"Product Count\"].between(num_of_prod-1, num_of_prod+1))]"
   ]
  },
  {
   "cell_type": "markdown",
   "id": "e1c4487f",
   "metadata": {},
   "source": [
    "## Task 2\n",
    "Let’s work through matching control units to a set of treatment units. For the new product introduction experiment let’s say that your manager has assigned a set of 10 treatment stores in California where the Grape flavor of the product will be sold.\n",
    "\n",
    "The data for all the stores is in the file: NewProductControlData.csv\n",
    "\n",
    "The data for the treatment stores for the Grape test is: GrapeProductTreatmentStores.csv\n",
    "\n",
    "**What are the control stores for each treatment store?**\n",
    "\n",
    "Your result should be a dataset with two fields: treatment store and control store. There are 10 treatment stores, and you're matching two control stores to each, so there should be twenty rows in your dataset. See the next section for the results."
   ]
  },
  {
   "cell_type": "code",
   "execution_count": 18,
   "id": "d576ac8d",
   "metadata": {
    "ExecuteTime": {
     "end_time": "2023-06-03T19:34:11.674634Z",
     "start_time": "2023-06-03T19:34:11.619688Z"
    }
   },
   "outputs": [],
   "source": [
    "control_data = pd.read_csv('newproductcontroldata.csv')\n",
    "treatment_data = pd.read_csv('grapeproducttreatmentstores.csv')"
   ]
  },
  {
   "cell_type": "code",
   "execution_count": 19,
   "id": "002b2f00",
   "metadata": {
    "ExecuteTime": {
     "end_time": "2023-06-03T19:34:11.706476Z",
     "start_time": "2023-06-03T19:34:11.680199Z"
    }
   },
   "outputs": [
    {
     "data": {
      "text/html": [
       "<div>\n",
       "<style scoped>\n",
       "    .dataframe tbody tr th:only-of-type {\n",
       "        vertical-align: middle;\n",
       "    }\n",
       "\n",
       "    .dataframe tbody tr th {\n",
       "        vertical-align: top;\n",
       "    }\n",
       "\n",
       "    .dataframe thead th {\n",
       "        text-align: right;\n",
       "    }\n",
       "</style>\n",
       "<table border=\"1\" class=\"dataframe\">\n",
       "  <thead>\n",
       "    <tr style=\"text-align: right;\">\n",
       "      <th></th>\n",
       "      <th>Store ID</th>\n",
       "      <th>City</th>\n",
       "      <th>State</th>\n",
       "      <th>Zip Code</th>\n",
       "      <th>Category Sales</th>\n",
       "      <th>Product Count</th>\n",
       "      <th>Size</th>\n",
       "    </tr>\n",
       "  </thead>\n",
       "  <tbody>\n",
       "    <tr>\n",
       "      <th>78</th>\n",
       "      <td>79</td>\n",
       "      <td>CHATTANOOGA</td>\n",
       "      <td>TN</td>\n",
       "      <td>37415</td>\n",
       "      <td>38064.56</td>\n",
       "      <td>6</td>\n",
       "      <td>Large</td>\n",
       "    </tr>\n",
       "    <tr>\n",
       "      <th>5711</th>\n",
       "      <td>5712</td>\n",
       "      <td>Saint Louis</td>\n",
       "      <td>MO</td>\n",
       "      <td>63129</td>\n",
       "      <td>410553.94</td>\n",
       "      <td>8</td>\n",
       "      <td>Small</td>\n",
       "    </tr>\n",
       "    <tr>\n",
       "      <th>5536</th>\n",
       "      <td>5537</td>\n",
       "      <td>New York</td>\n",
       "      <td>NY</td>\n",
       "      <td>10169</td>\n",
       "      <td>10770.03</td>\n",
       "      <td>6</td>\n",
       "      <td>Small</td>\n",
       "    </tr>\n",
       "    <tr>\n",
       "      <th>5236</th>\n",
       "      <td>5237</td>\n",
       "      <td>Cleveland</td>\n",
       "      <td>TN</td>\n",
       "      <td>37312</td>\n",
       "      <td>176.80</td>\n",
       "      <td>2</td>\n",
       "      <td>Small</td>\n",
       "    </tr>\n",
       "    <tr>\n",
       "      <th>509</th>\n",
       "      <td>510</td>\n",
       "      <td>Worcester</td>\n",
       "      <td>MA</td>\n",
       "      <td>1605</td>\n",
       "      <td>190.00</td>\n",
       "      <td>4</td>\n",
       "      <td>Large</td>\n",
       "    </tr>\n",
       "  </tbody>\n",
       "</table>\n",
       "</div>"
      ],
      "text/plain": [
       "      Store ID         City State  Zip Code  Category Sales  Product Count  \\\n",
       "78          79  CHATTANOOGA    TN     37415        38064.56              6   \n",
       "5711      5712  Saint Louis    MO     63129       410553.94              8   \n",
       "5536      5537     New York    NY     10169        10770.03              6   \n",
       "5236      5237    Cleveland    TN     37312          176.80              2   \n",
       "509        510    Worcester    MA      1605          190.00              4   \n",
       "\n",
       "       Size  \n",
       "78    Large  \n",
       "5711  Small  \n",
       "5536  Small  \n",
       "5236  Small  \n",
       "509   Large  "
      ]
     },
     "execution_count": 19,
     "metadata": {},
     "output_type": "execute_result"
    }
   ],
   "source": [
    "control_data.sample(5)"
   ]
  },
  {
   "cell_type": "code",
   "execution_count": 20,
   "id": "cf90e4dd",
   "metadata": {
    "ExecuteTime": {
     "end_time": "2023-06-03T19:34:11.737791Z",
     "start_time": "2023-06-03T19:34:11.709470Z"
    }
   },
   "outputs": [
    {
     "data": {
      "text/html": [
       "<div>\n",
       "<style scoped>\n",
       "    .dataframe tbody tr th:only-of-type {\n",
       "        vertical-align: middle;\n",
       "    }\n",
       "\n",
       "    .dataframe tbody tr th {\n",
       "        vertical-align: top;\n",
       "    }\n",
       "\n",
       "    .dataframe thead th {\n",
       "        text-align: right;\n",
       "    }\n",
       "</style>\n",
       "<table border=\"1\" class=\"dataframe\">\n",
       "  <thead>\n",
       "    <tr style=\"text-align: right;\">\n",
       "      <th></th>\n",
       "      <th>Store ID</th>\n",
       "      <th>City</th>\n",
       "      <th>State</th>\n",
       "      <th>Zip Code</th>\n",
       "      <th>Category Sales</th>\n",
       "      <th>Product Count</th>\n",
       "      <th>Size</th>\n",
       "    </tr>\n",
       "  </thead>\n",
       "  <tbody>\n",
       "    <tr>\n",
       "      <th>6</th>\n",
       "      <td>5019</td>\n",
       "      <td>Napa</td>\n",
       "      <td>CA</td>\n",
       "      <td>94558</td>\n",
       "      <td>16744.96</td>\n",
       "      <td>5</td>\n",
       "      <td>Large</td>\n",
       "    </tr>\n",
       "    <tr>\n",
       "      <th>0</th>\n",
       "      <td>332</td>\n",
       "      <td>La Mesa</td>\n",
       "      <td>CA</td>\n",
       "      <td>91942</td>\n",
       "      <td>56792.96</td>\n",
       "      <td>5</td>\n",
       "      <td>Large</td>\n",
       "    </tr>\n",
       "    <tr>\n",
       "      <th>1</th>\n",
       "      <td>944</td>\n",
       "      <td>Palmdale</td>\n",
       "      <td>CA</td>\n",
       "      <td>93551</td>\n",
       "      <td>41.50</td>\n",
       "      <td>1</td>\n",
       "      <td>Large</td>\n",
       "    </tr>\n",
       "    <tr>\n",
       "      <th>8</th>\n",
       "      <td>5395</td>\n",
       "      <td>Los Angeles</td>\n",
       "      <td>CA</td>\n",
       "      <td>90079</td>\n",
       "      <td>5669.56</td>\n",
       "      <td>5</td>\n",
       "      <td>Large</td>\n",
       "    </tr>\n",
       "    <tr>\n",
       "      <th>7</th>\n",
       "      <td>5051</td>\n",
       "      <td>Simi Valley</td>\n",
       "      <td>CA</td>\n",
       "      <td>93065</td>\n",
       "      <td>1378.85</td>\n",
       "      <td>3</td>\n",
       "      <td>Large</td>\n",
       "    </tr>\n",
       "  </tbody>\n",
       "</table>\n",
       "</div>"
      ],
      "text/plain": [
       "   Store ID         City State  Zip Code  Category Sales  Product Count   Size\n",
       "6      5019         Napa    CA     94558        16744.96              5  Large\n",
       "0       332      La Mesa    CA     91942        56792.96              5  Large\n",
       "1       944     Palmdale    CA     93551           41.50              1  Large\n",
       "8      5395  Los Angeles    CA     90079         5669.56              5  Large\n",
       "7      5051  Simi Valley    CA     93065         1378.85              3  Large"
      ]
     },
     "execution_count": 20,
     "metadata": {},
     "output_type": "execute_result"
    }
   ],
   "source": [
    "treatment_data.sample(5)"
   ]
  },
  {
   "cell_type": "code",
   "execution_count": 21,
   "id": "0234cde4",
   "metadata": {
    "ExecuteTime": {
     "end_time": "2023-06-03T19:34:11.877826Z",
     "start_time": "2023-06-03T19:34:11.741298Z"
    },
    "scrolled": true
   },
   "outputs": [
    {
     "data": {
      "text/html": [
       "<div>\n",
       "<style scoped>\n",
       "    .dataframe tbody tr th:only-of-type {\n",
       "        vertical-align: middle;\n",
       "    }\n",
       "\n",
       "    .dataframe tbody tr th {\n",
       "        vertical-align: top;\n",
       "    }\n",
       "\n",
       "    .dataframe thead th {\n",
       "        text-align: right;\n",
       "    }\n",
       "</style>\n",
       "<table border=\"1\" class=\"dataframe\">\n",
       "  <thead>\n",
       "    <tr style=\"text-align: right;\">\n",
       "      <th></th>\n",
       "      <th>treatment_store</th>\n",
       "      <th>control_store</th>\n",
       "    </tr>\n",
       "  </thead>\n",
       "  <tbody>\n",
       "    <tr>\n",
       "      <th>0</th>\n",
       "      <td>332</td>\n",
       "      <td>782</td>\n",
       "    </tr>\n",
       "    <tr>\n",
       "      <th>1</th>\n",
       "      <td>332</td>\n",
       "      <td>608</td>\n",
       "    </tr>\n",
       "    <tr>\n",
       "      <th>2</th>\n",
       "      <td>944</td>\n",
       "      <td>95</td>\n",
       "    </tr>\n",
       "    <tr>\n",
       "      <th>3</th>\n",
       "      <td>944</td>\n",
       "      <td>675</td>\n",
       "    </tr>\n",
       "    <tr>\n",
       "      <th>4</th>\n",
       "      <td>1181</td>\n",
       "      <td>360</td>\n",
       "    </tr>\n",
       "    <tr>\n",
       "      <th>5</th>\n",
       "      <td>1181</td>\n",
       "      <td>623</td>\n",
       "    </tr>\n",
       "    <tr>\n",
       "      <th>6</th>\n",
       "      <td>2696</td>\n",
       "      <td>891</td>\n",
       "    </tr>\n",
       "    <tr>\n",
       "      <th>7</th>\n",
       "      <td>2696</td>\n",
       "      <td>126</td>\n",
       "    </tr>\n",
       "    <tr>\n",
       "      <th>8</th>\n",
       "      <td>2717</td>\n",
       "      <td>720</td>\n",
       "    </tr>\n",
       "    <tr>\n",
       "      <th>9</th>\n",
       "      <td>2717</td>\n",
       "      <td>55</td>\n",
       "    </tr>\n",
       "    <tr>\n",
       "      <th>10</th>\n",
       "      <td>3060</td>\n",
       "      <td>788</td>\n",
       "    </tr>\n",
       "    <tr>\n",
       "      <th>11</th>\n",
       "      <td>3060</td>\n",
       "      <td>234</td>\n",
       "    </tr>\n",
       "    <tr>\n",
       "      <th>12</th>\n",
       "      <td>5019</td>\n",
       "      <td>673</td>\n",
       "    </tr>\n",
       "    <tr>\n",
       "      <th>13</th>\n",
       "      <td>5019</td>\n",
       "      <td>647</td>\n",
       "    </tr>\n",
       "    <tr>\n",
       "      <th>14</th>\n",
       "      <td>5051</td>\n",
       "      <td>264</td>\n",
       "    </tr>\n",
       "    <tr>\n",
       "      <th>15</th>\n",
       "      <td>5051</td>\n",
       "      <td>589</td>\n",
       "    </tr>\n",
       "    <tr>\n",
       "      <th>16</th>\n",
       "      <td>5395</td>\n",
       "      <td>485</td>\n",
       "    </tr>\n",
       "    <tr>\n",
       "      <th>17</th>\n",
       "      <td>5395</td>\n",
       "      <td>223</td>\n",
       "    </tr>\n",
       "    <tr>\n",
       "      <th>18</th>\n",
       "      <td>5834</td>\n",
       "      <td>606</td>\n",
       "    </tr>\n",
       "    <tr>\n",
       "      <th>19</th>\n",
       "      <td>5834</td>\n",
       "      <td>826</td>\n",
       "    </tr>\n",
       "  </tbody>\n",
       "</table>\n",
       "</div>"
      ],
      "text/plain": [
       "   treatment_store control_store\n",
       "0              332           782\n",
       "1              332           608\n",
       "2              944            95\n",
       "3              944           675\n",
       "4             1181           360\n",
       "5             1181           623\n",
       "6             2696           891\n",
       "7             2696           126\n",
       "8             2717           720\n",
       "9             2717            55\n",
       "10            3060           788\n",
       "11            3060           234\n",
       "12            5019           673\n",
       "13            5019           647\n",
       "14            5051           264\n",
       "15            5051           589\n",
       "16            5395           485\n",
       "17            5395           223\n",
       "18            5834           606\n",
       "19            5834           826"
      ]
     },
     "execution_count": 21,
     "metadata": {},
     "output_type": "execute_result"
    }
   ],
   "source": [
    "matching_fields = ['Product Count', 'Category Sales']\n",
    "weights = [100, 1]\n",
    "\n",
    "matched_stores = pd.DataFrame(columns=['treatment_store', 'control_store'])\n",
    "\n",
    "for _, treatment_store in treatment_data.iterrows():\n",
    "    control_data_filtered = control_data[control_data['State']\n",
    "                                         == treatment_store['State']].reset_index(drop=True)\n",
    "    control_data_filtered['Product Count'] *= weights[0]\n",
    "    treatment_store['Product Count'] *= weights[0]\n",
    "    distances = euclidean_distances(treatment_store[matching_fields].values.reshape(1, -1),\n",
    "                                    control_data_filtered[matching_fields].values)\n",
    "\n",
    "    top_indices = distances.argsort()[0][1:3]\n",
    "\n",
    "    control_stores = control_data.loc[top_indices, 'Store ID'].tolist()\n",
    "\n",
    "    matched_stores = pd.concat([\n",
    "        matched_stores,\n",
    "        pd.DataFrame({'treatment_store': [treatment_store['Store ID']] * 2,\n",
    "                      'control_store': control_stores})\n",
    "    ], ignore_index=True)\n",
    "\n",
    "matched_stores"
   ]
  },
  {
   "cell_type": "markdown",
   "id": "22ccdf95",
   "metadata": {},
   "source": [
    "## Task 3 / Mini Project"
   ]
  },
  {
   "cell_type": "code",
   "execution_count": 22,
   "id": "7392d2c5",
   "metadata": {
    "ExecuteTime": {
     "end_time": "2023-06-03T19:34:13.295677Z",
     "start_time": "2023-06-03T19:34:11.892440Z"
    }
   },
   "outputs": [],
   "source": [
    "sales = pd.read_excel(\"sales-raw.xlsx\", sheet_name=\"sales\")"
   ]
  },
  {
   "cell_type": "code",
   "execution_count": 23,
   "id": "49896812",
   "metadata": {
    "ExecuteTime": {
     "end_time": "2023-06-03T19:34:13.341836Z",
     "start_time": "2023-06-03T19:34:13.302207Z"
    }
   },
   "outputs": [
    {
     "data": {
      "text/html": [
       "<div>\n",
       "<style scoped>\n",
       "    .dataframe tbody tr th:only-of-type {\n",
       "        vertical-align: middle;\n",
       "    }\n",
       "\n",
       "    .dataframe tbody tr th {\n",
       "        vertical-align: top;\n",
       "    }\n",
       "\n",
       "    .dataframe thead th {\n",
       "        text-align: right;\n",
       "    }\n",
       "</style>\n",
       "<table border=\"1\" class=\"dataframe\">\n",
       "  <thead>\n",
       "    <tr style=\"text-align: right;\">\n",
       "      <th></th>\n",
       "      <th>Region</th>\n",
       "      <th>Store</th>\n",
       "      <th>Week</th>\n",
       "      <th>Week_Start</th>\n",
       "      <th>Week_End</th>\n",
       "      <th>Period</th>\n",
       "      <th>Sum_Gross_Sales</th>\n",
       "    </tr>\n",
       "  </thead>\n",
       "  <tbody>\n",
       "    <tr>\n",
       "      <th>459</th>\n",
       "      <td>West</td>\n",
       "      <td>store_527</td>\n",
       "      <td>54</td>\n",
       "      <td>2014-02-13</td>\n",
       "      <td>2014-02-19</td>\n",
       "      <td>Comp</td>\n",
       "      <td>2369.41</td>\n",
       "    </tr>\n",
       "    <tr>\n",
       "      <th>752</th>\n",
       "      <td>West</td>\n",
       "      <td>store_574</td>\n",
       "      <td>50</td>\n",
       "      <td>2014-01-16</td>\n",
       "      <td>2014-01-22</td>\n",
       "      <td>Comp</td>\n",
       "      <td>1993.24</td>\n",
       "    </tr>\n",
       "    <tr>\n",
       "      <th>880</th>\n",
       "      <td>West</td>\n",
       "      <td>store_593</td>\n",
       "      <td>58</td>\n",
       "      <td>2014-03-13</td>\n",
       "      <td>2014-03-19</td>\n",
       "      <td>Comp</td>\n",
       "      <td>5844.84</td>\n",
       "    </tr>\n",
       "    <tr>\n",
       "      <th>1646</th>\n",
       "      <td>Midwest</td>\n",
       "      <td>store_776</td>\n",
       "      <td>64</td>\n",
       "      <td>2014-04-24</td>\n",
       "      <td>2014-04-30</td>\n",
       "      <td>Test</td>\n",
       "      <td>645.35</td>\n",
       "    </tr>\n",
       "    <tr>\n",
       "      <th>63</th>\n",
       "      <td>Midwest</td>\n",
       "      <td>store_027</td>\n",
       "      <td>53</td>\n",
       "      <td>2014-02-06</td>\n",
       "      <td>2014-02-12</td>\n",
       "      <td>Comp</td>\n",
       "      <td>1926.59</td>\n",
       "    </tr>\n",
       "  </tbody>\n",
       "</table>\n",
       "</div>"
      ],
      "text/plain": [
       "       Region      Store  Week Week_Start   Week_End Period  Sum_Gross_Sales\n",
       "459      West  store_527    54 2014-02-13 2014-02-19   Comp          2369.41\n",
       "752      West  store_574    50 2014-01-16 2014-01-22   Comp          1993.24\n",
       "880      West  store_593    58 2014-03-13 2014-03-19   Comp          5844.84\n",
       "1646  Midwest  store_776    64 2014-04-24 2014-04-30   Test           645.35\n",
       "63    Midwest  store_027    53 2014-02-06 2014-02-12   Comp          1926.59"
      ]
     },
     "execution_count": 23,
     "metadata": {},
     "output_type": "execute_result"
    }
   ],
   "source": [
    "sales.sample(5)"
   ]
  },
  {
   "cell_type": "markdown",
   "id": "6301e9a2",
   "metadata": {},
   "source": [
    "### Step 1\n",
    "Calculate the sales growth. You should create a pivot table to calculate the average sales in the comparable period for each store.\n",
    "\n",
    "Calculate growth by using the formula:\n",
    "\n",
    "(current_week_sales - avg_sales_comp) / avg_sales_comp\n",
    "\n",
    "for each week for each store."
   ]
  },
  {
   "cell_type": "code",
   "execution_count": 24,
   "id": "72d03572",
   "metadata": {
    "ExecuteTime": {
     "end_time": "2023-06-03T19:34:13.372966Z",
     "start_time": "2023-06-03T19:34:13.347834Z"
    }
   },
   "outputs": [],
   "source": [
    "# Calculate average gross sales for the entire 'Comp' period using groupby\n",
    "avg_sales_comp = sales[sales['Period'] == 'Comp'].groupby('Store')['Sum_Gross_Sales'].mean()\n",
    "avg_sales_comp = avg_sales_comp.to_dict()"
   ]
  },
  {
   "cell_type": "code",
   "execution_count": 25,
   "id": "22155aa5",
   "metadata": {
    "ExecuteTime": {
     "end_time": "2023-06-03T19:34:13.404674Z",
     "start_time": "2023-06-03T19:34:13.376886Z"
    }
   },
   "outputs": [],
   "source": [
    "sales['avg_sales_comp'] = sales[\"Store\"].map(avg_sales_comp)\n",
    "sales['avg_gross_sales_growth'] = ((sales['Sum_Gross_Sales'] - sales['avg_sales_comp']) / sales['avg_sales_comp'])"
   ]
  },
  {
   "cell_type": "code",
   "execution_count": 26,
   "id": "519abb17",
   "metadata": {
    "ExecuteTime": {
     "end_time": "2023-06-03T19:34:13.451571Z",
     "start_time": "2023-06-03T19:34:13.408559Z"
    },
    "scrolled": true
   },
   "outputs": [
    {
     "data": {
      "text/html": [
       "<div>\n",
       "<style scoped>\n",
       "    .dataframe tbody tr th:only-of-type {\n",
       "        vertical-align: middle;\n",
       "    }\n",
       "\n",
       "    .dataframe tbody tr th {\n",
       "        vertical-align: top;\n",
       "    }\n",
       "\n",
       "    .dataframe thead th {\n",
       "        text-align: right;\n",
       "    }\n",
       "</style>\n",
       "<table border=\"1\" class=\"dataframe\">\n",
       "  <thead>\n",
       "    <tr style=\"text-align: right;\">\n",
       "      <th></th>\n",
       "      <th>Region</th>\n",
       "      <th>Store</th>\n",
       "      <th>Week</th>\n",
       "      <th>Week_Start</th>\n",
       "      <th>Week_End</th>\n",
       "      <th>Period</th>\n",
       "      <th>Sum_Gross_Sales</th>\n",
       "      <th>avg_sales_comp</th>\n",
       "      <th>avg_gross_sales_growth</th>\n",
       "    </tr>\n",
       "  </thead>\n",
       "  <tbody>\n",
       "    <tr>\n",
       "      <th>1557</th>\n",
       "      <td>Midwest</td>\n",
       "      <td>store_760</td>\n",
       "      <td>55</td>\n",
       "      <td>2014-02-20</td>\n",
       "      <td>2014-02-26</td>\n",
       "      <td>Comp</td>\n",
       "      <td>3121.02</td>\n",
       "      <td>1332.071</td>\n",
       "      <td>1.342983</td>\n",
       "    </tr>\n",
       "    <tr>\n",
       "      <th>923</th>\n",
       "      <td>West</td>\n",
       "      <td>store_596</td>\n",
       "      <td>61</td>\n",
       "      <td>2014-04-03</td>\n",
       "      <td>2014-04-09</td>\n",
       "      <td>Test</td>\n",
       "      <td>1228.93</td>\n",
       "      <td>1942.662</td>\n",
       "      <td>-0.367399</td>\n",
       "    </tr>\n",
       "    <tr>\n",
       "      <th>1363</th>\n",
       "      <td>Midwest</td>\n",
       "      <td>store_724</td>\n",
       "      <td>61</td>\n",
       "      <td>2014-04-03</td>\n",
       "      <td>2014-04-09</td>\n",
       "      <td>Test</td>\n",
       "      <td>336.16</td>\n",
       "      <td>1050.332</td>\n",
       "      <td>-0.679949</td>\n",
       "    </tr>\n",
       "    <tr>\n",
       "      <th>1607</th>\n",
       "      <td>Midwest</td>\n",
       "      <td>store_767</td>\n",
       "      <td>65</td>\n",
       "      <td>2014-05-01</td>\n",
       "      <td>2014-05-07</td>\n",
       "      <td>Test</td>\n",
       "      <td>432.25</td>\n",
       "      <td>1450.457</td>\n",
       "      <td>-0.701990</td>\n",
       "    </tr>\n",
       "    <tr>\n",
       "      <th>686</th>\n",
       "      <td>West</td>\n",
       "      <td>store_566</td>\n",
       "      <td>62</td>\n",
       "      <td>2014-04-10</td>\n",
       "      <td>2014-04-16</td>\n",
       "      <td>Test</td>\n",
       "      <td>3005.75</td>\n",
       "      <td>1734.479</td>\n",
       "      <td>0.732941</td>\n",
       "    </tr>\n",
       "  </tbody>\n",
       "</table>\n",
       "</div>"
      ],
      "text/plain": [
       "       Region      Store  Week Week_Start   Week_End Period  Sum_Gross_Sales  \\\n",
       "1557  Midwest  store_760    55 2014-02-20 2014-02-26   Comp          3121.02   \n",
       "923      West  store_596    61 2014-04-03 2014-04-09   Test          1228.93   \n",
       "1363  Midwest  store_724    61 2014-04-03 2014-04-09   Test           336.16   \n",
       "1607  Midwest  store_767    65 2014-05-01 2014-05-07   Test           432.25   \n",
       "686      West  store_566    62 2014-04-10 2014-04-16   Test          3005.75   \n",
       "\n",
       "      avg_sales_comp  avg_gross_sales_growth  \n",
       "1557        1332.071                1.342983  \n",
       "923         1942.662               -0.367399  \n",
       "1363        1050.332               -0.679949  \n",
       "1607        1450.457               -0.701990  \n",
       "686         1734.479                0.732941  "
      ]
     },
     "execution_count": 26,
     "metadata": {},
     "output_type": "execute_result"
    }
   ],
   "source": [
    "sales.sample(5)"
   ]
  },
  {
   "cell_type": "markdown",
   "id": "6d71932c",
   "metadata": {},
   "source": [
    "### Step 2\n",
    "Create a pivot table and average the growth by period. There should be two columns that contain an average for the comparable period and the average growth for the test period."
   ]
  },
  {
   "cell_type": "code",
   "execution_count": 27,
   "id": "ea5a0e42",
   "metadata": {
    "ExecuteTime": {
     "end_time": "2023-06-03T19:34:13.498102Z",
     "start_time": "2023-06-03T19:34:13.457575Z"
    }
   },
   "outputs": [],
   "source": [
    "# Create a pivot table with average growth by period\n",
    "pivot_table = pd.pivot_table(\n",
    "    sales, values='avg_gross_sales_growth', index='Store', columns='Period', aggfunc='mean')"
   ]
  },
  {
   "cell_type": "code",
   "execution_count": 28,
   "id": "fefb7e1a",
   "metadata": {
    "ExecuteTime": {
     "end_time": "2023-06-03T19:34:13.545251Z",
     "start_time": "2023-06-03T19:34:13.504643Z"
    }
   },
   "outputs": [
    {
     "data": {
      "text/html": [
       "<div>\n",
       "<style scoped>\n",
       "    .dataframe tbody tr th:only-of-type {\n",
       "        vertical-align: middle;\n",
       "    }\n",
       "\n",
       "    .dataframe tbody tr th {\n",
       "        vertical-align: top;\n",
       "    }\n",
       "\n",
       "    .dataframe thead th {\n",
       "        text-align: right;\n",
       "    }\n",
       "</style>\n",
       "<table border=\"1\" class=\"dataframe\">\n",
       "  <thead>\n",
       "    <tr style=\"text-align: right;\">\n",
       "      <th>Period</th>\n",
       "      <th>Store</th>\n",
       "      <th>Comp</th>\n",
       "      <th>Test</th>\n",
       "    </tr>\n",
       "  </thead>\n",
       "  <tbody>\n",
       "    <tr>\n",
       "      <th>0</th>\n",
       "      <td>store_012</td>\n",
       "      <td>7.216450e-17</td>\n",
       "      <td>0.098795</td>\n",
       "    </tr>\n",
       "    <tr>\n",
       "      <th>1</th>\n",
       "      <td>store_015</td>\n",
       "      <td>2.220446e-17</td>\n",
       "      <td>-0.542737</td>\n",
       "    </tr>\n",
       "    <tr>\n",
       "      <th>2</th>\n",
       "      <td>store_024</td>\n",
       "      <td>-8.881784e-17</td>\n",
       "      <td>0.199918</td>\n",
       "    </tr>\n",
       "    <tr>\n",
       "      <th>3</th>\n",
       "      <td>store_027</td>\n",
       "      <td>4.317534e-17</td>\n",
       "      <td>-0.211632</td>\n",
       "    </tr>\n",
       "    <tr>\n",
       "      <th>4</th>\n",
       "      <td>store_029</td>\n",
       "      <td>2.220446e-17</td>\n",
       "      <td>-0.187795</td>\n",
       "    </tr>\n",
       "    <tr>\n",
       "      <th>...</th>\n",
       "      <td>...</td>\n",
       "      <td>...</td>\n",
       "      <td>...</td>\n",
       "    </tr>\n",
       "    <tr>\n",
       "      <th>84</th>\n",
       "      <td>store_788</td>\n",
       "      <td>-1.110223e-17</td>\n",
       "      <td>0.109331</td>\n",
       "    </tr>\n",
       "    <tr>\n",
       "      <th>85</th>\n",
       "      <td>store_796</td>\n",
       "      <td>-6.106227e-17</td>\n",
       "      <td>-0.376040</td>\n",
       "    </tr>\n",
       "    <tr>\n",
       "      <th>86</th>\n",
       "      <td>store_798</td>\n",
       "      <td>-1.706968e-16</td>\n",
       "      <td>0.257464</td>\n",
       "    </tr>\n",
       "    <tr>\n",
       "      <th>87</th>\n",
       "      <td>store_802</td>\n",
       "      <td>1.443290e-16</td>\n",
       "      <td>-0.258828</td>\n",
       "    </tr>\n",
       "    <tr>\n",
       "      <th>88</th>\n",
       "      <td>store_808</td>\n",
       "      <td>1.110223e-16</td>\n",
       "      <td>0.005881</td>\n",
       "    </tr>\n",
       "  </tbody>\n",
       "</table>\n",
       "<p>89 rows × 3 columns</p>\n",
       "</div>"
      ],
      "text/plain": [
       "Period      Store          Comp      Test\n",
       "0       store_012  7.216450e-17  0.098795\n",
       "1       store_015  2.220446e-17 -0.542737\n",
       "2       store_024 -8.881784e-17  0.199918\n",
       "3       store_027  4.317534e-17 -0.211632\n",
       "4       store_029  2.220446e-17 -0.187795\n",
       "..            ...           ...       ...\n",
       "84      store_788 -1.110223e-17  0.109331\n",
       "85      store_796 -6.106227e-17 -0.376040\n",
       "86      store_798 -1.706968e-16  0.257464\n",
       "87      store_802  1.443290e-16 -0.258828\n",
       "88      store_808  1.110223e-16  0.005881\n",
       "\n",
       "[89 rows x 3 columns]"
      ]
     },
     "execution_count": 28,
     "metadata": {},
     "output_type": "execute_result"
    }
   ],
   "source": [
    "pivot_table.reset_index(inplace=True)\n",
    "pivot_table"
   ]
  },
  {
   "cell_type": "code",
   "execution_count": 29,
   "id": "e4decd24",
   "metadata": {
    "ExecuteTime": {
     "end_time": "2023-06-03T19:34:13.561123Z",
     "start_time": "2023-06-03T19:34:13.549743Z"
    }
   },
   "outputs": [],
   "source": [
    "pivot_table.rename({\"Comp\": \"avg_growth_comparative_period\",\n",
    "                   \"Test\": \"avg_growth_test_period\"}, inplace=True, axis=1)"
   ]
  },
  {
   "cell_type": "code",
   "execution_count": 30,
   "id": "b5e9a77a",
   "metadata": {
    "ExecuteTime": {
     "end_time": "2023-06-03T19:34:13.576494Z",
     "start_time": "2023-06-03T19:34:13.567762Z"
    }
   },
   "outputs": [],
   "source": [
    "pivot_table[\"growth_difference\"] = pivot_table[\"avg_growth_test_period\"] - \\\n",
    "    pivot_table[\"avg_growth_comparative_period\"]"
   ]
  },
  {
   "cell_type": "markdown",
   "id": "f6c6a1a2",
   "metadata": {},
   "source": [
    "### Step 3\n",
    "Subtract the average growth in the test period from the average growth in the comparable period for each store."
   ]
  },
  {
   "cell_type": "code",
   "execution_count": 31,
   "id": "f3e24ad4",
   "metadata": {
    "ExecuteTime": {
     "end_time": "2023-06-03T19:34:13.686002Z",
     "start_time": "2023-06-03T19:34:13.600418Z"
    }
   },
   "outputs": [],
   "source": [
    "control_treatment = pd.read_excel(\n",
    "    \"sales-raw.xlsx\", sheet_name=\"treatment_control_pairs\")"
   ]
  },
  {
   "cell_type": "code",
   "execution_count": 32,
   "id": "d13e6558",
   "metadata": {
    "ExecuteTime": {
     "end_time": "2023-06-03T19:34:13.717220Z",
     "start_time": "2023-06-03T19:34:13.694417Z"
    }
   },
   "outputs": [
    {
     "data": {
      "text/html": [
       "<div>\n",
       "<style scoped>\n",
       "    .dataframe tbody tr th:only-of-type {\n",
       "        vertical-align: middle;\n",
       "    }\n",
       "\n",
       "    .dataframe tbody tr th {\n",
       "        vertical-align: top;\n",
       "    }\n",
       "\n",
       "    .dataframe thead th {\n",
       "        text-align: right;\n",
       "    }\n",
       "</style>\n",
       "<table border=\"1\" class=\"dataframe\">\n",
       "  <thead>\n",
       "    <tr style=\"text-align: right;\">\n",
       "      <th></th>\n",
       "      <th>Controls</th>\n",
       "      <th>Treatments</th>\n",
       "      <th>Distance</th>\n",
       "      <th>Region</th>\n",
       "    </tr>\n",
       "  </thead>\n",
       "  <tbody>\n",
       "    <tr>\n",
       "      <th>7</th>\n",
       "      <td>store_550</td>\n",
       "      <td>store_695</td>\n",
       "      <td>0.193658</td>\n",
       "      <td>Midwest</td>\n",
       "    </tr>\n",
       "    <tr>\n",
       "      <th>13</th>\n",
       "      <td>store_636</td>\n",
       "      <td>store_769</td>\n",
       "      <td>0.399842</td>\n",
       "      <td>Midwest</td>\n",
       "    </tr>\n",
       "    <tr>\n",
       "      <th>8</th>\n",
       "      <td>store_577</td>\n",
       "      <td>store_755</td>\n",
       "      <td>0.209997</td>\n",
       "      <td>Midwest</td>\n",
       "    </tr>\n",
       "    <tr>\n",
       "      <th>26</th>\n",
       "      <td>store_776</td>\n",
       "      <td>store_024</td>\n",
       "      <td>0.590671</td>\n",
       "      <td>Midwest</td>\n",
       "    </tr>\n",
       "    <tr>\n",
       "      <th>32</th>\n",
       "      <td>store_788</td>\n",
       "      <td>store_696</td>\n",
       "      <td>0.096976</td>\n",
       "      <td>Midwest</td>\n",
       "    </tr>\n",
       "  </tbody>\n",
       "</table>\n",
       "</div>"
      ],
      "text/plain": [
       "     Controls Treatments  Distance   Region\n",
       "7   store_550  store_695  0.193658  Midwest\n",
       "13  store_636  store_769  0.399842  Midwest\n",
       "8   store_577  store_755  0.209997  Midwest\n",
       "26  store_776  store_024  0.590671  Midwest\n",
       "32  store_788  store_696  0.096976  Midwest"
      ]
     },
     "execution_count": 32,
     "metadata": {},
     "output_type": "execute_result"
    }
   ],
   "source": [
    "control_treatment.sample(5)"
   ]
  },
  {
   "cell_type": "code",
   "execution_count": 33,
   "id": "e546727d",
   "metadata": {
    "ExecuteTime": {
     "end_time": "2023-06-03T19:34:13.764586Z",
     "start_time": "2023-06-03T19:34:13.723266Z"
    }
   },
   "outputs": [],
   "source": [
    "control_treatment = control_treatment.merge(\n",
    "    pivot_table[[\"Store\", \"growth_difference\"]], left_on=\"Controls\", right_on=\"Store\", how=\"left\")\n",
    "control_treatment.rename(\n",
    "    {\"growth_difference\": \"diff_gross_sales_control\"}, inplace=True, axis=1)\n",
    "control_treatment.drop(\"Store\", inplace=True, axis=1)\n",
    "\n",
    "control_treatment = control_treatment.merge(\n",
    "    pivot_table[[\"Store\", \"growth_difference\"]], left_on=\"Treatments\", right_on=\"Store\", how=\"left\")\n",
    "control_treatment.rename(\n",
    "    {\"growth_difference\": \"diff_gross_sales_treatment\"}, inplace=True, axis=1)\n",
    "control_treatment.drop(\"Store\", inplace=True, axis=1)"
   ]
  },
  {
   "cell_type": "markdown",
   "id": "35cae375",
   "metadata": {},
   "source": [
    "### Step 4\n",
    "Calculate Lift and expected sales impact\n",
    "The last step involves calculating lift from the growth difference. Lift is defined as the percent growth between the growth difference of a treatment store and its corresponding control store.\n",
    "\n",
    "Lift = (Growth_Diff_Treatment_Store - Growth_Diff_Control_Store) / (1 + Growth_Diff_Control_Store)\n",
    "\n",
    "Note: The reason why we add a number 1 in the denominator is because we're calculating a percent growth off a growth difference number which is merely a percentage difference. We need a percent gain number (ex: 1.20 instead of .20) to have a proper denominator for the lift calculation.\n",
    "\n",
    "Once we get the lift number for each treatment store and its corresponding control stores, we take the average sales from the comparable period and multiple the average sales to get an average sales impact."
   ]
  },
  {
   "cell_type": "code",
   "execution_count": 34,
   "id": "8b221a51",
   "metadata": {
    "ExecuteTime": {
     "end_time": "2023-06-03T19:34:13.811682Z",
     "start_time": "2023-06-03T19:34:13.768951Z"
    }
   },
   "outputs": [],
   "source": [
    "control_treatment[\"lift\"] = (control_treatment[\"diff_gross_sales_treatment\"] - control_treatment[\"diff_gross_sales_control\"]) / (1 + control_treatment[\"diff_gross_sales_control\"])\n",
    "\n",
    "filtered_sales = sales[sales[\"Period\"] == \"Comp\"][[\"Store\", \"avg_sales_comp\"]].groupby(\"Store\").mean().reset_index()\n",
    "control_treatment = control_treatment.merge(\n",
    "    filtered_sales, left_on=\"Treatments\", right_on=\"Store\", how=\"left\")\n",
    "control_treatment.drop(\"Store\", inplace=True, axis=1)\n",
    "\n",
    "control_treatment[\"expected_sales_impact\"] = control_treatment[\"lift\"] * \\\n",
    "    control_treatment[\"avg_sales_comp\"]"
   ]
  },
  {
   "cell_type": "code",
   "execution_count": 35,
   "id": "ca7f9316",
   "metadata": {
    "ExecuteTime": {
     "end_time": "2023-06-03T19:34:13.859357Z",
     "start_time": "2023-06-03T19:34:13.816244Z"
    }
   },
   "outputs": [
    {
     "data": {
      "text/html": [
       "<div>\n",
       "<style scoped>\n",
       "    .dataframe tbody tr th:only-of-type {\n",
       "        vertical-align: middle;\n",
       "    }\n",
       "\n",
       "    .dataframe tbody tr th {\n",
       "        vertical-align: top;\n",
       "    }\n",
       "\n",
       "    .dataframe thead th {\n",
       "        text-align: right;\n",
       "    }\n",
       "</style>\n",
       "<table border=\"1\" class=\"dataframe\">\n",
       "  <thead>\n",
       "    <tr style=\"text-align: right;\">\n",
       "      <th></th>\n",
       "      <th>Controls</th>\n",
       "      <th>Treatments</th>\n",
       "      <th>Distance</th>\n",
       "      <th>Region</th>\n",
       "      <th>diff_gross_sales_control</th>\n",
       "      <th>diff_gross_sales_treatment</th>\n",
       "      <th>lift</th>\n",
       "      <th>avg_sales_comp</th>\n",
       "      <th>expected_sales_impact</th>\n",
       "    </tr>\n",
       "  </thead>\n",
       "  <tbody>\n",
       "    <tr>\n",
       "      <th>0</th>\n",
       "      <td>store_029</td>\n",
       "      <td>store_767</td>\n",
       "      <td>0.555454</td>\n",
       "      <td>Midwest</td>\n",
       "      <td>-0.187795</td>\n",
       "      <td>-0.283111</td>\n",
       "      <td>-0.117355</td>\n",
       "      <td>1450.457</td>\n",
       "      <td>-170.218896</td>\n",
       "    </tr>\n",
       "    <tr>\n",
       "      <th>1</th>\n",
       "      <td>store_033</td>\n",
       "      <td>store_769</td>\n",
       "      <td>0.172738</td>\n",
       "      <td>Midwest</td>\n",
       "      <td>-0.503942</td>\n",
       "      <td>0.026066</td>\n",
       "      <td>1.068439</td>\n",
       "      <td>1241.438</td>\n",
       "      <td>1326.400195</td>\n",
       "    </tr>\n",
       "    <tr>\n",
       "      <th>2</th>\n",
       "      <td>store_150</td>\n",
       "      <td>store_724</td>\n",
       "      <td>2.165599</td>\n",
       "      <td>Midwest</td>\n",
       "      <td>-0.153513</td>\n",
       "      <td>0.088115</td>\n",
       "      <td>0.285448</td>\n",
       "      <td>1050.332</td>\n",
       "      <td>299.815494</td>\n",
       "    </tr>\n",
       "    <tr>\n",
       "      <th>3</th>\n",
       "      <td>store_251</td>\n",
       "      <td>store_755</td>\n",
       "      <td>0.191664</td>\n",
       "      <td>Midwest</td>\n",
       "      <td>-0.032286</td>\n",
       "      <td>0.038626</td>\n",
       "      <td>0.073278</td>\n",
       "      <td>2178.119</td>\n",
       "      <td>159.607781</td>\n",
       "    </tr>\n",
       "    <tr>\n",
       "      <th>4</th>\n",
       "      <td>store_478</td>\n",
       "      <td>store_601</td>\n",
       "      <td>0.994041</td>\n",
       "      <td>West</td>\n",
       "      <td>-0.013892</td>\n",
       "      <td>-0.299704</td>\n",
       "      <td>-0.289838</td>\n",
       "      <td>2044.152</td>\n",
       "      <td>-592.473907</td>\n",
       "    </tr>\n",
       "  </tbody>\n",
       "</table>\n",
       "</div>"
      ],
      "text/plain": [
       "    Controls Treatments  Distance   Region  diff_gross_sales_control  \\\n",
       "0  store_029  store_767  0.555454  Midwest                 -0.187795   \n",
       "1  store_033  store_769  0.172738  Midwest                 -0.503942   \n",
       "2  store_150  store_724  2.165599  Midwest                 -0.153513   \n",
       "3  store_251  store_755  0.191664  Midwest                 -0.032286   \n",
       "4  store_478  store_601  0.994041     West                 -0.013892   \n",
       "\n",
       "   diff_gross_sales_treatment      lift  avg_sales_comp  expected_sales_impact  \n",
       "0                   -0.283111 -0.117355        1450.457            -170.218896  \n",
       "1                    0.026066  1.068439        1241.438            1326.400195  \n",
       "2                    0.088115  0.285448        1050.332             299.815494  \n",
       "3                    0.038626  0.073278        2178.119             159.607781  \n",
       "4                   -0.299704 -0.289838        2044.152            -592.473907  "
      ]
     },
     "execution_count": 35,
     "metadata": {},
     "output_type": "execute_result"
    }
   ],
   "source": [
    "control_treatment.head()"
   ]
  },
  {
   "cell_type": "markdown",
   "id": "a79ef939",
   "metadata": {},
   "source": [
    "### Step 4\n",
    "Calculate the lift and expected sales impact for each row.\n",
    "\n",
    "Average the lift and expected sales impact."
   ]
  },
  {
   "cell_type": "code",
   "execution_count": 36,
   "id": "9af60507",
   "metadata": {
    "ExecuteTime": {
     "end_time": "2023-06-03T19:34:13.890554Z",
     "start_time": "2023-06-03T19:34:13.863979Z"
    }
   },
   "outputs": [
    {
     "data": {
      "text/plain": [
       "(-0.0155801311983967, -122.38087755327379)"
      ]
     },
     "execution_count": 36,
     "metadata": {},
     "output_type": "execute_result"
    }
   ],
   "source": [
    "control_treatment[\"lift\"].mean(), control_treatment[\"expected_sales_impact\"].mean()"
   ]
  },
  {
   "cell_type": "code",
   "execution_count": 37,
   "id": "18738d51",
   "metadata": {
    "ExecuteTime": {
     "end_time": "2023-06-03T19:34:13.921324Z",
     "start_time": "2023-06-03T19:34:13.896399Z"
    }
   },
   "outputs": [
    {
     "name": "stdout",
     "output_type": "stream",
     "text": [
      "0.03472870222794122 0.04369866996248451\n"
     ]
    }
   ],
   "source": [
    "print(np.var(control_treatment[\"diff_gross_sales_control\"]), np.var(control_treatment[\"diff_gross_sales_treatment\"]))"
   ]
  },
  {
   "cell_type": "code",
   "execution_count": 38,
   "id": "2b93beef",
   "metadata": {
    "ExecuteTime": {
     "end_time": "2023-06-03T19:34:13.952468Z",
     "start_time": "2023-06-03T19:34:13.931808Z"
    }
   },
   "outputs": [
    {
     "name": "stdout",
     "output_type": "stream",
     "text": [
      "Ttest_indResult(statistic=1.5741204864558072, pvalue=0.12024142839870754)\n"
     ]
    }
   ],
   "source": [
    "print(stats.ttest_ind(control_treatment[\"diff_gross_sales_control\"],\n",
    "      control_treatment[\"diff_gross_sales_treatment\"], equal_var=True))"
   ]
  }
 ],
 "metadata": {
  "hide_input": false,
  "kernelspec": {
   "display_name": "Python 3",
   "language": "python",
   "name": "python3"
  },
  "language_info": {
   "codemirror_mode": {
    "name": "ipython",
    "version": 3
   },
   "file_extension": ".py",
   "mimetype": "text/x-python",
   "name": "python",
   "nbconvert_exporter": "python",
   "pygments_lexer": "ipython3",
   "version": "3.8.5"
  },
  "toc": {
   "base_numbering": 1,
   "nav_menu": {},
   "number_sections": true,
   "sideBar": true,
   "skip_h1_title": false,
   "title_cell": "Table of Contents",
   "title_sidebar": "Contents",
   "toc_cell": false,
   "toc_position": {},
   "toc_section_display": true,
   "toc_window_display": false
  },
  "varInspector": {
   "cols": {
    "lenName": 16,
    "lenType": 16,
    "lenVar": 40
   },
   "kernels_config": {
    "python": {
     "delete_cmd_postfix": "",
     "delete_cmd_prefix": "del ",
     "library": "var_list.py",
     "varRefreshCmd": "print(var_dic_list())"
    },
    "r": {
     "delete_cmd_postfix": ") ",
     "delete_cmd_prefix": "rm(",
     "library": "var_list.r",
     "varRefreshCmd": "cat(var_dic_list()) "
    }
   },
   "types_to_exclude": [
    "module",
    "function",
    "builtin_function_or_method",
    "instance",
    "_Feature"
   ],
   "window_display": false
  }
 },
 "nbformat": 4,
 "nbformat_minor": 5
}
